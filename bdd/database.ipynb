{
 "cells": [
  {
   "cell_type": "code",
   "execution_count": 2,
   "metadata": {},
   "outputs": [],
   "source": [
    "import pandas as pd\n",
    "import sqlite3"
   ]
  },
  {
   "cell_type": "code",
   "execution_count": 1,
   "metadata": {},
   "outputs": [
    {
     "ename": "NameError",
     "evalue": "name 'pd' is not defined",
     "output_type": "error",
     "traceback": [
      "\u001b[0;31m---------------------------------------------------------------------------\u001b[0m",
      "\u001b[0;31mNameError\u001b[0m                                 Traceback (most recent call last)",
      "Cell \u001b[0;32mIn[1], line 5\u001b[0m\n\u001b[1;32m      2\u001b[0m csv_file_path \u001b[38;5;241m=\u001b[39m \u001b[38;5;124m\"\u001b[39m\u001b[38;5;124m/home/yanis/Téléchargements/Projet chef d\u001b[39m\u001b[38;5;124m'\u001b[39m\u001b[38;5;124moeuvre/bank-additional-full.csv\u001b[39m\u001b[38;5;124m\"\u001b[39m\n\u001b[1;32m      4\u001b[0m \u001b[38;5;66;03m# Lire votre fichier CSV avec pandas\u001b[39;00m\n\u001b[0;32m----> 5\u001b[0m df \u001b[38;5;241m=\u001b[39m \u001b[43mpd\u001b[49m\u001b[38;5;241m.\u001b[39mread_csv(csv_file_path)\n\u001b[1;32m      7\u001b[0m \u001b[38;5;66;03m# Chemin vers votre fichier de base de données SQLite\u001b[39;00m\n\u001b[1;32m      8\u001b[0m sqlite_db_path \u001b[38;5;241m=\u001b[39m \u001b[38;5;124m\"\u001b[39m\u001b[38;5;124m/home/yanis/Téléchargements/Projet chef d\u001b[39m\u001b[38;5;124m'\u001b[39m\u001b[38;5;124moeuvre/projet_final/Mon_Appli/bdd/base_de_donnees.db\u001b[39m\u001b[38;5;124m\"\u001b[39m\n",
      "\u001b[0;31mNameError\u001b[0m: name 'pd' is not defined"
     ]
    }
   ],
   "source": [
    "# Chemin vers votre fichier CSV\n",
    "csv_file_path = \"/home/yanis/Téléchargements/Projet chef d'oeuvre/bank-additional-full.csv\"\n",
    "\n",
    "# Lire votre fichier CSV avec pandas\n",
    "df = pd.read_csv(csv_file_path)\n",
    "\n",
    "# Chemin vers votre fichier de base de données SQLite\n",
    "sqlite_db_path = \"/home/yanis/Téléchargements/Projet chef d'oeuvre/projet_final/Mon_Appli/bdd/base_de_donnees.db\"\n",
    "\n",
    "# Créer une connexion à la base de données SQLite\n",
    "conn = sqlite3.connect(sqlite_db_path)\n",
    "\n",
    "# Écrire les données dans la base de données SQLite\n",
    "df.to_sql('base_de_donnees', conn, if_exists='replace', index=False)\n",
    "\n",
    "# Fermer la connexion\n",
    "conn.close()"
   ]
  },
  {
   "cell_type": "code",
   "execution_count": null,
   "metadata": {},
   "outputs": [],
   "source": []
  },
  {
   "cell_type": "code",
   "execution_count": null,
   "metadata": {},
   "outputs": [],
   "source": []
  },
  {
   "cell_type": "code",
   "execution_count": null,
   "metadata": {},
   "outputs": [],
   "source": []
  },
  {
   "cell_type": "code",
   "execution_count": null,
   "metadata": {},
   "outputs": [],
   "source": []
  }
 ],
 "metadata": {
  "kernelspec": {
   "display_name": "venv",
   "language": "python",
   "name": "python3"
  },
  "language_info": {
   "codemirror_mode": {
    "name": "ipython",
    "version": 3
   },
   "file_extension": ".py",
   "mimetype": "text/x-python",
   "name": "python",
   "nbconvert_exporter": "python",
   "pygments_lexer": "ipython3",
   "version": "3.10.12"
  }
 },
 "nbformat": 4,
 "nbformat_minor": 2
}
